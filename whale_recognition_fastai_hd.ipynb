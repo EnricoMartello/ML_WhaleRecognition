{
  "cells": [
    {
      "cell_type": "markdown",
      "metadata": {
        "id": "Cwj_pbqlIlnG"
      },
      "source": [
        "# Swimming Mammal Recognition"
      ]
    },
    {
      "cell_type": "markdown",
      "metadata": {
        "id": "_THjYQ8eIlnI"
      },
      "source": [
        "I will try and buil a ML algorithm that is capable of identifying almost 28k unique individual marine mammals belonging to 30 species.\n",
        "\n",
        "Dataset can be downloaded from [here](https://www.kaggle.com/bdsaglam/happy-whale-512?select=sample_submission.csv). This is the \"simplified version\" of the [original dataset](https://www.kaggle.com/c/happy-whale-and-dolphin/data) in that all the figures have the same size (512x512) -- if smaller they have been padded. \n",
        "\n",
        "The files are already divided into train and test folders, although there is no `species` label associated to each test image. *** Review this ***\n",
        "\n",
        "My idea is:\n",
        "1. train a non-pretrained resnet34 network from scratches (`xresnet34` in the fastai libraries);\n",
        "1. train a pretrained resnet34 network;\n",
        "1. compare the results and comment on that."
      ]
    },
    {
      "cell_type": "markdown",
      "metadata": {
        "id": "r1xrqRhtIlnI"
      },
      "source": [
        "## Initial imports and setups"
      ]
    },
    {
      "cell_type": "markdown",
      "source": [
        "Upgrade fastai on colab"
      ],
      "metadata": {
        "id": "1VSzAUUFfw4S"
      }
    },
    {
      "cell_type": "code",
      "source": [
        "! [ -e /content ] && pip install -Uqq fastai  # upgrade fastai on colab"
      ],
      "metadata": {
        "id": "IcPrCrUXf2zH"
      },
      "execution_count": null,
      "outputs": []
    },
    {
      "cell_type": "code",
      "execution_count": null,
      "metadata": {
        "id": "cPPQwGNhIlnI"
      },
      "outputs": [],
      "source": [
        "%reload_ext autoreload\n",
        "%autoreload 2\n",
        "%matplotlib inline"
      ]
    },
    {
      "cell_type": "code",
      "execution_count": null,
      "metadata": {
        "id": "-oDNuAGOIlnJ"
      },
      "outputs": [],
      "source": [
        "# import fastai\n",
        "# fastai.__version__ \n",
        "# 2.5.3\n",
        "\n",
        "from fastai.vision.all import *\n",
        "from fastai.callback import *\n",
        "from fastai.metrics import error_rate\n",
        "import pandas as pd\n",
        "import os, csv"
      ]
    },
    {
      "cell_type": "markdown",
      "source": [
        "Import Drive in `/content/drive`"
      ],
      "metadata": {
        "id": "GfNXw83Df4H5"
      }
    },
    {
      "cell_type": "code",
      "source": [
        "from google.colab import drive\n",
        "drive.mount('/content/drive', force_remount=True)"
      ],
      "metadata": {
        "id": "8XcoCtl-8nCV",
        "colab": {
          "base_uri": "https://localhost:8080/"
        },
        "outputId": "e1895e2e-d4c5-46e3-ddc7-df498b9ed19a"
      },
      "execution_count": null,
      "outputs": [
        {
          "output_type": "stream",
          "name": "stdout",
          "text": [
            "Drive already mounted at /content/drive; to attempt to forcibly remount, call drive.mount(\"/content/drive\", force_remount=True).\n"
          ]
        }
      ]
    },
    {
      "cell_type": "markdown",
      "source": [
        "Setting some variables:"
      ],
      "metadata": {
        "id": "a72E_t-wPecL"
      }
    },
    {
      "cell_type": "code",
      "source": [
        "item_size = 480\n",
        "tfm_size = 224\n",
        "bs = 64 #same as default, so I am not using it -- atm"
      ],
      "metadata": {
        "colab": {
          "base_uri": "https://localhost:8080/",
          "height": 35
        },
        "id": "tbVRS4zb89W6",
        "outputId": "b5326e2b-2b6c-440e-e4c0-5590c8e1e823"
      },
      "execution_count": null,
      "outputs": [
        {
          "output_type": "execute_result",
          "data": {
            "application/vnd.google.colaboratory.intrinsic+json": {
              "type": "string"
            },
            "text/plain": [
              "'/content/drive/MyDrive/phd/MPAGS_ML/whale_recognition/archive'"
            ]
          },
          "metadata": {},
          "execution_count": 15
        }
      ]
    },
    {
      "cell_type": "markdown",
      "metadata": {
        "id": "7j_Uu1iRIlnK"
      },
      "source": [
        "## Creating dataloader"
      ]
    },
    {
      "cell_type": "markdown",
      "metadata": {
        "id": "3weO663HIlnK"
      },
      "source": [
        "Defining all the paths and reading the csv file containing the labels (i.e. the mammal species) associated to each image."
      ]
    },
    {
      "cell_type": "code",
      "execution_count": null,
      "metadata": {
        "id": "qn8ADJox4RK4"
      },
      "outputs": [],
      "source": [
        "path = os.getcwd()+'/drive/MyDrive/phd/MPAGS_ML/whale_recognition/archive'\n",
        "path_images = path+'/train_images/'\n",
        "#os.listdir(path_images)\n",
        "\n",
        "path_labels = path+'/train.csv'\n",
        "#* Read csv file using pandas\n",
        "df = pd.read_csv(path_labels)\n",
        "#df.head\t#* printing datafile names"
      ]
    },
    {
      "cell_type": "markdown",
      "metadata": {
        "id": "ARSwCWNIIlnK"
      },
      "source": [
        "Creating the dictionary with the structure:\n",
        "\n",
        "```\n",
        "\timage_name: species\n",
        "```\n",
        "\n",
        "and the function to retrieve the species starting from the filename."
      ]
    },
    {
      "cell_type": "code",
      "execution_count": null,
      "metadata": {
        "id": "rqTZTQvYIlnL"
      },
      "outputs": [],
      "source": [
        "species = {}\n",
        "with open(path_labels) as file:\n",
        "\treader = csv.DictReader(file)\n",
        "\tfor row in reader:\n",
        "\t\tspecies[row['image']] = row['species']\n",
        "\n",
        "def label_func(fname):\n",
        "    return species[str(fname).split('/')[-1]]"
      ]
    },
    {
      "cell_type": "markdown",
      "metadata": {
        "id": "KxroC6yXIlnL"
      },
      "source": [
        "Given our ***dataset*** we want to create a dataloader for it, that splits the dataset into a *test* and a *training* set. Images are resized to `item_size`x`item_size`, and are padded if necessary (should not, since the images I refer to in the link above are all larger, 512x512).\n",
        "\n",
        "I load the images from the folder specified in `path/train_images` using the labels loaded from the csv file, saved in `df`:"
      ]
    },
    {
      "cell_type": "code",
      "execution_count": null,
      "metadata": {
        "id": "Jm-Uq0w8IlnL"
      },
      "outputs": [],
      "source": [
        "dls = ImageDataLoaders.from_df(df, \n",
        "\tpath,\n",
        "\tfolder = 'train_images',\n",
        "\titem_tfms=Resize(item_size,method=ResizeMethod.Pad),\n",
        "\tbatch_tfms=Normalize.from_stats(*imagenet_stats))\n",
        "\n",
        "# dls.show_batch()"
      ]
    },
    {
      "cell_type": "code",
      "execution_count": null,
      "metadata": {
        "id": "CH0mfevbIlnM"
      },
      "outputs": [],
      "source": [
        "# getting all images in subfolders\n",
        "fnames = get_image_files(path_images)\n",
        "#fnames[:10]"
      ]
    },
    {
      "cell_type": "markdown",
      "metadata": {
        "id": "vqQ9JdHCIlnM"
      },
      "source": [
        "I now create the DataBlock, i.e. how to assemble data as follows:\n",
        "\n",
        "1. grab the images with the built-in feature `get_image_files`;\n",
        "1. grab the species associated to each image using the function I have defined above `label_func`;\n",
        "1. transform the images, resizing them to 64x64 and padding them;\n",
        "1. splitting the images into a validation and training set, setting myself a `seed` for the random number generator;\n",
        "1. normalising the images within the batch"
      ]
    },
    {
      "cell_type": "code",
      "execution_count": null,
      "metadata": {
        "id": "ScDHbeaNIlnM"
      },
      "outputs": [],
      "source": [
        "dblock = DataBlock(blocks = (ImageBlock, CategoryBlock),\n",
        "\tget_items = get_image_files,\n",
        "\tget_y = label_func,\n",
        "\titem_tfms=Resize(item_size,method=ResizeMethod.Pad),\n",
        "\tsplitter=RandomSplitter(valid_pct=.1, seed=42),\n",
        "\tbatch_tfms=[*aug_transforms(size=tfm_size, max_warp=0), Normalize.from_stats(*imagenet_stats)]\n",
        "\t)\n"
      ]
    },
    {
      "cell_type": "code",
      "execution_count": null,
      "metadata": {
        "id": "yoVC5tmJIlnN"
      },
      "outputs": [],
      "source": [
        "dsets = dblock.datasets(path)\n",
        "no_species = len(dsets.vocab) # returns the total number of species\n",
        "# dsets.train[:10]"
      ]
    },
    {
      "cell_type": "markdown",
      "metadata": {
        "id": "utN8IvBSIlnN"
      },
      "source": [
        "We don't need to do anything else since the images are already of size 512x512 and if smaller, these are patched.\n",
        "\n",
        "We can now transform the DataBlock into DataLoaders, using a batchsize of 16"
      ]
    },
    {
      "cell_type": "code",
      "execution_count": null,
      "metadata": {
        "id": "-DBbWyDLIlnN"
      },
      "outputs": [],
      "source": [
        "dls = dblock.dataloaders(path_images)\n",
        "# dls.show_batch(max_n=16)"
      ]
    },
    {
      "cell_type": "markdown",
      "metadata": {
        "id": "LKkKGwJ7IlnN"
      },
      "source": [
        "## Start the learning process"
      ]
    },
    {
      "cell_type": "markdown",
      "metadata": {
        "id": "l0GH8clPIlnO"
      },
      "source": [
        "We want to train a model from scratch since there is no such a pre-trained NN.\n",
        "\n",
        "We might use a CNN learner with the `pretrained` option set to `False`, or otherwise we can a set of resnet models that have \"all the tricks from modern research incorporated\". Basically I use xresnet34 and xresnet50 models, specifying the number of classes we expect to see as a result, and nothing else. I will do and comment all the steps for the xresnet34 and then repeat them all in the xresnet50 case."
      ]
    },
    {
      "cell_type": "markdown",
      "metadata": {
        "id": "7Yjj_u4xIlnO"
      },
      "source": [
        "### xresnet34"
      ]
    },
    {
      "cell_type": "markdown",
      "metadata": {
        "id": "SRiE90d-IlnO"
      },
      "source": [
        "I define here two models to use for fitting, namely xresnet34 and xresnet50 with no particular activation functions or any further specification."
      ]
    },
    {
      "cell_type": "code",
      "execution_count": null,
      "metadata": {
        "id": "UqavndwUIlnP"
      },
      "outputs": [],
      "source": [
        "netw34_subopt = xresnet34(n_out=no_species, pretrained = False)\n",
        "# netw34_subopt[0]"
      ]
    },
    {
      "cell_type": "markdown",
      "metadata": {
        "id": "tMA7CwiSIlnP"
      },
      "source": [
        "Launching the learning process. In order to do so, I specify the metrics, `accuracy` and `error_rate`."
      ]
    },
    {
      "cell_type": "code",
      "execution_count": null,
      "metadata": {
        "id": "uHUPp0OCIlnP"
      },
      "outputs": [],
      "source": [
        "learn34_subopt = Learner(dls,model = netw34_subopt, metrics =[accuracy,error_rate])"
      ]
    },
    {
      "cell_type": "markdown",
      "source": [
        "I then take a look at the suggested learning rate, to find:"
      ],
      "metadata": {
        "id": "-LRSscaKOH-A"
      }
    },
    {
      "cell_type": "code",
      "execution_count": null,
      "metadata": {
        "id": "Iry6rLFhIlnQ",
        "outputId": "e5e274ad-6577-45c2-b3a2-27d47f1076d1"
      },
      "outputs": [
        {
          "data": {
            "text/html": [
              "\n",
              "    <div>\n",
              "        <style>\n",
              "            /* Turns off some styling */\n",
              "            progress {\n",
              "                /* gets rid of default border in Firefox and Opera. */\n",
              "                border: none;\n",
              "                /* Needs to be in here for Safari polyfill so background images work as expected. */\n",
              "                background-size: auto;\n",
              "            }\n",
              "            .progress-bar-interrupted, .progress-bar-interrupted::-webkit-progress-bar {\n",
              "                background: #F44336;\n",
              "            }\n",
              "        </style>\n",
              "      <progress value='0' class='' max='1' style='width:300px; height:20px; vertical-align: middle;'></progress>\n",
              "      0.00% [0/1 00:00<00:00]\n",
              "    </div>\n",
              "    \n",
              "\n",
              "\n",
              "    <div>\n",
              "        <style>\n",
              "            /* Turns off some styling */\n",
              "            progress {\n",
              "                /* gets rid of default border in Firefox and Opera. */\n",
              "                border: none;\n",
              "                /* Needs to be in here for Safari polyfill so background images work as expected. */\n",
              "                background-size: auto;\n",
              "            }\n",
              "            .progress-bar-interrupted, .progress-bar-interrupted::-webkit-progress-bar {\n",
              "                background: #F44336;\n",
              "            }\n",
              "        </style>\n",
              "      <progress value='0' class='' max='717' style='width:300px; height:20px; vertical-align: middle;'></progress>\n",
              "      0.00% [0/717 00:00<00:00]\n",
              "    </div>\n",
              "    "
            ],
            "text/plain": [
              "<IPython.core.display.HTML object>"
            ]
          },
          "metadata": {},
          "output_type": "display_data"
        },
        {
          "name": "stderr",
          "output_type": "stream",
          "text": [
            "[W ParallelNative.cpp:214] Warning: Cannot set number of intraop threads after parallel work has started or after set_num_threads call when using native parallel backend (function set_num_threads)\n",
            "[W ParallelNative.cpp:214] Warning: Cannot set number of intraop threads after parallel work has started or after set_num_threads call when using native parallel backend (function set_num_threads)\n",
            "[W ParallelNative.cpp:214] Warning: Cannot set number of intraop threads after parallel work has started or after set_num_threads call when using native parallel backend (function set_num_threads)\n",
            "[W ParallelNative.cpp:214] Warning: Cannot set number of intraop threads after parallel work has started or after set_num_threads call when using native parallel backend (function set_num_threads)\n",
            "[W ParallelNative.cpp:214] Warning: Cannot set number of intraop threads after parallel work has started or after set_num_threads call when using native parallel backend (function set_num_threads)\n",
            "[W ParallelNative.cpp:214] Warning: Cannot set number of intraop threads after parallel work has started or after set_num_threads call when using native parallel backend (function set_num_threads)\n",
            "[W ParallelNative.cpp:214] Warning: Cannot set number of intraop threads after parallel work has started or after set_num_threads call when using native parallel backend (function set_num_threads)\n",
            "[W ParallelNative.cpp:214] Warning: Cannot set number of intraop threads after parallel work has started or after set_num_threads call when using native parallel backend (function set_num_threads)\n",
            "[W ParallelNative.cpp:214] Warning: Cannot set number of intraop threads after parallel work has started or after set_num_threads call when using native parallel backend (function set_num_threads)\n",
            "[W ParallelNative.cpp:214] Warning: Cannot set number of intraop threads after parallel work has started or after set_num_threads call when using native parallel backend (function set_num_threads)\n",
            "[W ParallelNative.cpp:214] Warning: Cannot set number of intraop threads after parallel work has started or after set_num_threads call when using native parallel backend (function set_num_threads)\n",
            "[W ParallelNative.cpp:214] Warning: Cannot set number of intraop threads after parallel work has started or after set_num_threads call when using native parallel backend (function set_num_threads)\n",
            "[W ParallelNative.cpp:214] Warning: Cannot set number of intraop threads after parallel work has started or after set_num_threads call when using native parallel backend (function set_num_threads)\n",
            "[W ParallelNative.cpp:214] Warning: Cannot set number of intraop threads after parallel work has started or after set_num_threads call when using native parallel backend (function set_num_threads)\n",
            "[W ParallelNative.cpp:214] Warning: Cannot set number of intraop threads after parallel work has started or after set_num_threads call when using native parallel backend (function set_num_threads)\n",
            "[W ParallelNative.cpp:214] Warning: Cannot set number of intraop threads after parallel work has started or after set_num_threads call when using native parallel backend (function set_num_threads)\n",
            "[W ParallelNative.cpp:214] Warning: Cannot set number of intraop threads after parallel work has started or after set_num_threads call when using native parallel backend (function set_num_threads)\n",
            "[W ParallelNative.cpp:214] Warning: Cannot set number of intraop threads after parallel work has started or after set_num_threads call when using native parallel backend (function set_num_threads)\n",
            "[W ParallelNative.cpp:214] Warning: Cannot set number of intraop threads after parallel work has started or after set_num_threads call when using native parallel backend (function set_num_threads)\n",
            "[W ParallelNative.cpp:214] Warning: Cannot set number of intraop threads after parallel work has started or after set_num_threads call when using native parallel backend (function set_num_threads)\n",
            "[W ParallelNative.cpp:214] Warning: Cannot set number of intraop threads after parallel work has started or after set_num_threads call when using native parallel backend (function set_num_threads)\n",
            "[W ParallelNative.cpp:214] Warning: Cannot set number of intraop threads after parallel work has started or after set_num_threads call when using native parallel backend (function set_num_threads)\n",
            "[W ParallelNative.cpp:214] Warning: Cannot set number of intraop threads after parallel work has started or after set_num_threads call when using native parallel backend (function set_num_threads)\n",
            "[W ParallelNative.cpp:214] Warning: Cannot set number of intraop threads after parallel work has started or after set_num_threads call when using native parallel backend (function set_num_threads)\n"
          ]
        }
      ],
      "source": [
        "learn34_subopt.lr_find()"
      ]
    },
    {
      "cell_type": "markdown",
      "metadata": {
        "id": "JKjuLpxjIlnP"
      },
      "source": [
        "First, I launch the learning process without any suggestion about the learning rate, and see how it goes. During my training, I got a table that looks like:"
      ]
    },
    {
      "cell_type": "markdown",
      "metadata": {
        "id": "M-UueynkIlnP"
      },
      "source": [
        " |epoch |\ttrain_loss |\tvalid_loss |\taccuracy |\terror_rate |\ttime |\n",
        " |-- |-- |-- |-- |-- |-- |\n",
        " |0 |\t1.095772 |\t1.174001 |\t0.635509 |\t0.364491 |\t29:32 |\n",
        " |1 |\t0.738535 |\t0.781627 |\t0.756026 |\t0.243974 |\t29:50 |\n",
        " |2 |\t0.505455 |\t0.569351 |\t0.820694 |\t0.179306 |\t31:07 |\n",
        " |3 |\t0.301352 |\t0.420873 |\t0.866745 |\t0.133255 |\t29:24 |\n",
        " |4 |\t0.186283 |\t0.377023 |\t0.881246 |\t0.118754 |\t29:47 |"
      ]
    },
    {
      "cell_type": "code",
      "execution_count": null,
      "metadata": {
        "id": "PnR6DenCIlnQ"
      },
      "outputs": [],
      "source": [
        "learn34_subopt.fit_one_cycle(5)"
      ]
    },
    {
      "cell_type": "markdown",
      "metadata": {
        "id": "tQ3TsFlRIlnQ"
      },
      "source": [
        "I now try and optimise the learning rate, re-launching the `fit_one_cycle` procedure with the optimal lr obtained with `lr_find()`:"
      ]
    },
    {
      "cell_type": "code",
      "execution_count": null,
      "metadata": {
        "id": "vp3mD9-MIlnQ"
      },
      "outputs": [],
      "source": [
        "learn34_subopt.save('dorsal_xresnet34_v2') # v1 I have produced using my laptop, and was not really satisfactory\n",
        "learn34_subopt.summary()"
      ]
    },
    {
      "cell_type": "markdown",
      "metadata": {
        "id": "QB0T6ZakIlnR"
      },
      "source": [
        "Using the single cycle fit:"
      ]
    },
    {
      "cell_type": "code",
      "execution_count": null,
      "metadata": {
        "id": "rh17dXTtIlnR"
      },
      "outputs": [],
      "source": [
        "learn34_subopt.fit_one_cycle(1,4e-5)"
      ]
    },
    {
      "cell_type": "markdown",
      "source": [
        "That, on my laptop yielded:\n",
        "\n",
        "| epoch | train_loss | valid_loss | accuracy | error_rate | time |\n",
        "| --- | --- | --- | --- | --- | --- |\n",
        "| 0 | 0.180385 | 0.379558 | 0.881246 | 0.118754 | 29:57"
      ],
      "metadata": {
        "id": "GtuyFxo4Se9X"
      }
    },
    {
      "cell_type": "markdown",
      "metadata": {
        "id": "P_xgLIgGIlnR"
      },
      "source": [
        "Checking the results:"
      ]
    },
    {
      "cell_type": "code",
      "execution_count": null,
      "metadata": {
        "id": "Fn1qeJyrIlnR"
      },
      "outputs": [],
      "source": [
        "learn34_subopt.show_results()"
      ]
    },
    {
      "cell_type": "code",
      "execution_count": null,
      "metadata": {
        "id": "7CnGUikVIlnR"
      },
      "outputs": [],
      "source": [
        "interp34 = Interpretation.from_learner(learn34_subopt)\n",
        "interp34.plot_top_losses(16,figsize=(15,10))"
      ]
    },
    {
      "cell_type": "code",
      "source": [
        "interp34.plot_confusion_matrix()"
      ],
      "metadata": {
        "id": "p2bdgMpEWTT-"
      },
      "execution_count": null,
      "outputs": []
    },
    {
      "cell_type": "code",
      "source": [
        "interp34.most_confused(min_val=5)"
      ],
      "metadata": {
        "id": "lA1Z5L88WvHJ"
      },
      "execution_count": null,
      "outputs": []
    },
    {
      "cell_type": "markdown",
      "metadata": {
        "id": "hlRrlAWvIlnS"
      },
      "source": [
        "### xresnet50"
      ]
    },
    {
      "cell_type": "markdown",
      "source": [
        "I repeated the same steps for the `xresnet50`, and obtained:"
      ],
      "metadata": {
        "id": "-7S5829vOXEa"
      }
    },
    {
      "cell_type": "code",
      "execution_count": null,
      "metadata": {
        "id": "O-D249UnIlnS"
      },
      "outputs": [],
      "source": [
        "netw50_subopt = xresnet50(n_out=no_species, pretrained = False)\n",
        "learn50_subopt = Learner(dls,model = netw50_subopt, metrics=[accuracy,error_rate,Precision(),Recall()])\n",
        "# netw50_subopt[0]"
      ]
    },
    {
      "cell_type": "code",
      "execution_count": null,
      "metadata": {
        "id": "MiuyobiIIlnS"
      },
      "outputs": [],
      "source": [
        "learn50_subopt.lr_find()"
      ]
    },
    {
      "cell_type": "code",
      "execution_count": null,
      "metadata": {
        "id": "0xwYM2dOIlnT"
      },
      "outputs": [],
      "source": [
        "learn50_subopt.fit_one_cycle(3,1e-3)"
      ]
    },
    {
      "cell_type": "code",
      "execution_count": null,
      "metadata": {
        "id": "7jAa_IHVIlnT"
      },
      "outputs": [],
      "source": [
        "learn50_subopt.show_results()"
      ]
    },
    {
      "cell_type": "code",
      "execution_count": null,
      "metadata": {
        "id": "Pa6bAEINIlnT"
      },
      "outputs": [],
      "source": [
        "learn50_subopt.save('dorsal_fin_xresnet50_v1')"
      ]
    },
    {
      "cell_type": "code",
      "execution_count": null,
      "metadata": {
        "id": "xvuVsw-iIlnT"
      },
      "outputs": [],
      "source": [
        "interp50 = Interpretation.from_learner(learn50_subopt)\n",
        "interp50.plot_top_losses(16,figsize=(15,10))"
      ]
    },
    {
      "cell_type": "code",
      "source": [
        "interp50.plot_confusion_matrix()"
      ],
      "metadata": {
        "id": "Ti2QovY0WZ4p"
      },
      "execution_count": null,
      "outputs": []
    },
    {
      "cell_type": "code",
      "source": [
        "interp50.most_confused(min_val=5)"
      ],
      "metadata": {
        "id": "wE2lJLKPWrn6"
      },
      "execution_count": null,
      "outputs": []
    },
    {
      "cell_type": "markdown",
      "metadata": {
        "id": "K4_6jX9xIlnU"
      },
      "source": [
        "## Second"
      ]
    },
    {
      "cell_type": "markdown",
      "source": [
        "As an alternative, I  used the pre-trained `resnet34` and `resnet50` learners, in order to see whether there is an improvement in the "
      ],
      "metadata": {
        "id": "3AtMPz-xOrGv"
      }
    },
    {
      "cell_type": "code",
      "execution_count": null,
      "metadata": {
        "id": "BaG0r6eGIlnU"
      },
      "outputs": [],
      "source": [
        "dblock_pretrained = DataBlock(blocks = (ImageBlock, CategoryBlock),\n",
        "\tget_items = get_image_files,\n",
        "\tget_y = label_func,\n",
        "\titem_tfms=Resize(item_size,method=ResizeMethod.Pad),\n",
        "\tsplitter=RandomSplitter(valid_pct=.1, seed=42),\n",
        "\tbatch_tfms=[*aug_transforms(size=tfm_size, max_warp=0), Normalize.from_stats(*imagenet_stats)]\n",
        "\t# batch_tfms=Normalize.from_stats(*imagenet_stats)\n",
        "\t)\n"
      ]
    },
    {
      "cell_type": "code",
      "execution_count": null,
      "metadata": {
        "id": "CprkMHX_IlnU"
      },
      "outputs": [],
      "source": [
        "dls_pretrained = dblock_pretrained.dataloaders(\n",
        "\tpath_images\n",
        "\t)"
      ]
    },
    {
      "cell_type": "code",
      "execution_count": null,
      "metadata": {
        "id": "E3ivwQE_IlnU"
      },
      "outputs": [],
      "source": [
        "learn_pretrained = cnn_learner(dls_pretrained, resnet34(n_out=no_species), metrics=[accuracy,error_rate])\n",
        "learn_pretrained.lr_find()"
      ]
    },
    {
      "cell_type": "markdown",
      "metadata": {
        "id": "vUw29SHsIlnW"
      },
      "source": [
        "Unfreezing and fine-tuning:"
      ]
    },
    {
      "cell_type": "code",
      "execution_count": null,
      "metadata": {
        "id": "NwyNdX6YIlnW"
      },
      "outputs": [],
      "source": [
        "learn_pretrained.unfreeze()"
      ]
    },
    {
      "cell_type": "code",
      "source": [
        "lear_pretrained.lr_find()"
      ],
      "metadata": {
        "id": "daVzRsdvQ96p"
      },
      "execution_count": null,
      "outputs": []
    },
    {
      "cell_type": "code",
      "execution_count": null,
      "metadata": {
        "id": "M8pDpB4oIlnX"
      },
      "outputs": [],
      "source": [
        "learn.unfreeze()\n",
        "learn.fit_one_cycle(2, max_lr=slice(1e-6,1e-4))"
      ]
    },
    {
      "cell_type": "code",
      "execution_count": null,
      "metadata": {
        "id": "jHZmpBH-IlnW"
      },
      "outputs": [],
      "source": [
        "learn_pretrained.fit_one_cycle(5)"
      ]
    },
    {
      "cell_type": "markdown",
      "metadata": {
        "id": "kZTnXYtSIlnW"
      },
      "source": [
        "Hm, that didn't really help. Good lesson to learn: just increasing the number of epochs may not always be a good strategy. Let's try something else. The \"learning rate\" is a *hyperparameter* that determines how quickly we make changes to the weights of the NN."
      ]
    },
    {
      "cell_type": "markdown",
      "metadata": {
        "id": "_ZCdD40uIlnX"
      },
      "source": [
        "That's a pretty accurate model!"
      ]
    },
    {
      "cell_type": "code",
      "execution_count": null,
      "metadata": {
        "id": "fhqW384eIlnW"
      },
      "outputs": [],
      "source": [
        "interp50.most_confused(min_val=2)\n",
        "interp.most_confused(min_val=2)"
      ]
    },
    {
      "cell_type": "code",
      "execution_count": null,
      "metadata": {
        "id": "E1aybeBZIlnW"
      },
      "outputs": [],
      "source": [
        "interp.plot_confusion_matrix(figsize=(12,12), dpi=60)\n",
        "interp50.plot_confusion_matrix(figsize=(12,12), dpi=60)"
      ]
    },
    {
      "cell_type": "markdown",
      "metadata": {
        "id": "1PjOBEmuIlnV"
      },
      "source": [
        "## Results"
      ]
    },
    {
      "cell_type": "markdown",
      "metadata": {
        "id": "Atumzmn7IlnV"
      },
      "source": [
        "Let's see what results we have got. \n",
        "\n",
        "We will first see which were the categories that the model most confused with one another. We will try to see if what the model predicted was reasonable or not. In this case the mistakes look reasonable (none of the mistakes seems obviously naive). This is an indicator that our classifier is working correctly. \n",
        "\n",
        "Furthermore, when we plot the confusion matrix, we can see that the distribution is heavily skewed: the model makes the same mistakes over and over again but it rarely confuses other categories. This suggests that it just finds it difficult to distinguish some specific categories between each other; this is normal behaviour."
      ]
    },
    {
      "cell_type": "code",
      "execution_count": null,
      "metadata": {
        "id": "Jx5HWQU6IlnV"
      },
      "outputs": [],
      "source": [
        "learn34_subopt.load('dorsal_fin_1')\n",
        "#learn50.load('dorsal_fin_resnet50_1')"
      ]
    },
    {
      "cell_type": "code",
      "execution_count": null,
      "metadata": {
        "id": "Hd6S-Iu4IlnV"
      },
      "outputs": [],
      "source": [
        "interp = ClassificationInterpretation.from_learner(learn34_subopt)\n",
        "#interp50 = ClassificationInterpretation.from_learner(learn50)\n",
        "\n",
        "losses,idxs = interp.top_losses()\n",
        "# losses50,idxs50 = interp50.top_losses()\n",
        "\n",
        "len(dls.valid_ds)==len(losses)==len(idxs)\n",
        "# len(dls.valid_ds)==len(losses50)==len(idxs50)"
      ]
    },
    {
      "cell_type": "code",
      "execution_count": null,
      "metadata": {
        "id": "NPJHv8snIlnV"
      },
      "outputs": [],
      "source": [
        "interp.plot_top_losses(9, figsize=(15,11))"
      ]
    },
    {
      "cell_type": "code",
      "execution_count": null,
      "metadata": {
        "id": "j5lTlWBJIlnV"
      },
      "outputs": [],
      "source": [
        "interp50.plot_top_losses(9, figsize=(15,11))"
      ]
    },
    {
      "cell_type": "code",
      "execution_count": null,
      "metadata": {
        "id": "PHHiSkEbIlnV"
      },
      "outputs": [],
      "source": [
        "doc(interp.plot_top_losses)\n",
        "doc(interp50.plot_top_losses)"
      ]
    },
    {
      "cell_type": "markdown",
      "metadata": {
        "id": "bZainbhNIlnX"
      },
      "source": [
        "## Training: resnet50"
      ]
    },
    {
      "cell_type": "markdown",
      "metadata": {
        "id": "HvXnursBIlnX"
      },
      "source": [
        "Now we will train in the same way as before but with one caveat: instead of using resnet34 as our backbone we will use resnet50 (resnet34 is a 34 layer residual network while resnet50 has 50 layers. It will be explained later in the course and you can learn the details in the [resnet paper](https://arxiv.org/pdf/1512.03385.pdf)).\n",
        "\n",
        "Basically, resnet50 usually performs better because it is a deeper network with more parameters. Let's see if we can achieve a higher performance here. To help it along, let's us use larger images too, since that way the network can see more detail. We reduce the batch size a bit since otherwise this larger network will require more GPU memory."
      ]
    },
    {
      "cell_type": "code",
      "execution_count": null,
      "metadata": {
        "id": "zm0ORX0yIlnY"
      },
      "outputs": [],
      "source": [
        "data = ImageDataBunch.from_name_re(path_img, fnames, pat, ds_tfms=get_transforms(),\n",
        "                                   size=299, bs=bs//2).normalize(imagenet_stats)"
      ]
    },
    {
      "cell_type": "code",
      "execution_count": null,
      "metadata": {
        "id": "iP7paWn8IlnY"
      },
      "outputs": [],
      "source": [
        "learn = cnn_learner(data, models.resnet50, metrics=error_rate)"
      ]
    },
    {
      "cell_type": "code",
      "execution_count": null,
      "metadata": {
        "id": "dznJDhJdIlnY"
      },
      "outputs": [],
      "source": [
        "learn.lr_find()\n",
        "learn.recorder.plot()"
      ]
    },
    {
      "cell_type": "code",
      "execution_count": null,
      "metadata": {
        "id": "Ety5lid8IlnY"
      },
      "outputs": [],
      "source": [
        "learn.fit_one_cycle(8)"
      ]
    },
    {
      "cell_type": "code",
      "execution_count": null,
      "metadata": {
        "id": "1xuwjT87IlnY"
      },
      "outputs": [],
      "source": [
        "learn.save('pets-stage-1-50')"
      ]
    },
    {
      "cell_type": "code",
      "execution_count": null,
      "metadata": {
        "id": "KLLoGroiIlnY"
      },
      "outputs": [],
      "source": [
        "learn.load('pets-stage-1-50');"
      ]
    },
    {
      "cell_type": "markdown",
      "metadata": {
        "id": "kB2LlMzlIlnY"
      },
      "source": [
        "It's astonishing that it's possible to recognize pet breeds so accurately! Let's see if full fine-tuning helps:"
      ]
    },
    {
      "cell_type": "code",
      "execution_count": null,
      "metadata": {
        "id": "Dq5irSRpIlnY"
      },
      "outputs": [],
      "source": [
        "learn.lr_find()\n",
        "learn.recorder.plot()"
      ]
    },
    {
      "cell_type": "code",
      "execution_count": null,
      "metadata": {
        "id": "A-PcZ2AXIlnZ"
      },
      "outputs": [],
      "source": [
        "learn.unfreeze()\n",
        "learn.fit_one_cycle(3, max_lr=slice(1e-6,1e-4))"
      ]
    },
    {
      "cell_type": "markdown",
      "metadata": {
        "id": "dHrlw228IlnZ"
      },
      "source": [
        "If it doesn't, you can always go back to your previous model."
      ]
    },
    {
      "cell_type": "code",
      "execution_count": null,
      "metadata": {
        "id": "bWI3jMivIlnZ"
      },
      "outputs": [],
      "source": [
        "learn.load('pets-stage-1-50');"
      ]
    },
    {
      "cell_type": "code",
      "execution_count": null,
      "metadata": {
        "id": "fLJwpWauIlnZ"
      },
      "outputs": [],
      "source": [
        "interp = ClassificationInterpretation.from_learner(learn)"
      ]
    },
    {
      "cell_type": "code",
      "execution_count": null,
      "metadata": {
        "id": "cbZVaUR5IlnZ"
      },
      "outputs": [],
      "source": [
        "interp.plot_top_losses(9, figsize=(15,11))"
      ]
    },
    {
      "cell_type": "code",
      "execution_count": null,
      "metadata": {
        "id": "gC2cVG-TIlnZ"
      },
      "outputs": [],
      "source": [
        "interp.most_confused(min_val=2)\n"
      ]
    },
    {
      "cell_type": "code",
      "execution_count": null,
      "metadata": {
        "id": "iC4NpsDpIlnZ"
      },
      "outputs": [],
      "source": [
        "path = untar_data(URLs.MNIST_SAMPLE); path"
      ]
    },
    {
      "cell_type": "code",
      "execution_count": null,
      "metadata": {
        "id": "0_KNEipJIlnZ"
      },
      "outputs": [],
      "source": [
        "tfms = get_transforms(do_flip=False)\n",
        "data = ImageDataBunch.from_folder(path, ds_tfms=tfms, size=26)"
      ]
    },
    {
      "cell_type": "code",
      "execution_count": null,
      "metadata": {
        "id": "wPTxodlPIlna"
      },
      "outputs": [],
      "source": [
        "data.show_batch(rows=3, figsize=(5,5))"
      ]
    },
    {
      "cell_type": "code",
      "execution_count": null,
      "metadata": {
        "id": "S4nQU3cPIlna"
      },
      "outputs": [],
      "source": [
        "learn = cnn_learner(data, models.resnet18, metrics=accuracy)\n",
        "learn.fit(2)"
      ]
    },
    {
      "cell_type": "code",
      "execution_count": null,
      "metadata": {
        "id": "heUvmjzjIlna"
      },
      "outputs": [],
      "source": [
        "df = pd.read_csv(path/'labels.csv')\n",
        "df.head()"
      ]
    },
    {
      "cell_type": "code",
      "execution_count": null,
      "metadata": {
        "id": "2SLi_gywIlna"
      },
      "outputs": [],
      "source": [
        "data = ImageDataBunch.from_csv(path, ds_tfms=tfms, size=28)"
      ]
    },
    {
      "cell_type": "code",
      "execution_count": null,
      "metadata": {
        "id": "MRuC2FkdIlna"
      },
      "outputs": [],
      "source": [
        "data.show_batch(rows=3, figsize=(5,5))\n",
        "data.classes"
      ]
    },
    {
      "cell_type": "code",
      "execution_count": null,
      "metadata": {
        "id": "2BCGLcbmIlna"
      },
      "outputs": [],
      "source": [
        "data = ImageDataBunch.from_df(path, df, ds_tfms=tfms, size=24)\n",
        "data.classes"
      ]
    },
    {
      "cell_type": "code",
      "execution_count": null,
      "metadata": {
        "id": "2D5kBeqjIlna"
      },
      "outputs": [],
      "source": [
        "fn_paths = [path/name for name in df['name']]; fn_paths[:2]"
      ]
    },
    {
      "cell_type": "code",
      "execution_count": null,
      "metadata": {
        "id": "ldQXSI13Ilnb"
      },
      "outputs": [],
      "source": [
        "pat = r\"/(\\d)/\\d+\\.png$\"\n",
        "data = ImageDataBunch.from_name_re(path, fn_paths, pat=pat, ds_tfms=tfms, size=24)\n",
        "data.classes"
      ]
    },
    {
      "cell_type": "code",
      "execution_count": null,
      "metadata": {
        "id": "rmKwPsGwIlnb"
      },
      "outputs": [],
      "source": [
        "data = ImageDataBunch.from_name_func(path, fn_paths, ds_tfms=tfms, size=24,\n",
        "        label_func = lambda x: '3' if '/3/' in str(x) else '7')\n",
        "data.classes"
      ]
    },
    {
      "cell_type": "code",
      "execution_count": null,
      "metadata": {
        "id": "gApw6FNqIlnb"
      },
      "outputs": [],
      "source": [
        "labels = [('3' if '/3/' in str(x) else '7') for x in fn_paths]\n",
        "labels[:5]"
      ]
    },
    {
      "cell_type": "code",
      "execution_count": null,
      "metadata": {
        "id": "ioSGAoV_Ilnb"
      },
      "outputs": [],
      "source": [
        "data = ImageDataBunch.from_lists(path, fn_paths, labels=labels, ds_tfms=tfms, size=24)\n",
        "data.classes"
      ]
    },
    {
      "cell_type": "code",
      "execution_count": null,
      "metadata": {
        "id": "Ge9ou6zBIlnb"
      },
      "outputs": [],
      "source": [
        "doc(ImageDataBunch.from_name_re)"
      ]
    }
  ],
  "metadata": {
    "kernelspec": {
      "display_name": "Python 3",
      "language": "python",
      "name": "python3"
    },
    "language_info": {
      "codemirror_mode": {
        "name": "ipython",
        "version": 3
      },
      "file_extension": ".py",
      "mimetype": "text/x-python",
      "name": "python",
      "nbconvert_exporter": "python",
      "pygments_lexer": "ipython3",
      "version": "3.8.12"
    },
    "colab": {
      "name": "whale_recognition_fastai_hd.ipynb",
      "provenance": []
    }
  },
  "nbformat": 4,
  "nbformat_minor": 0
}